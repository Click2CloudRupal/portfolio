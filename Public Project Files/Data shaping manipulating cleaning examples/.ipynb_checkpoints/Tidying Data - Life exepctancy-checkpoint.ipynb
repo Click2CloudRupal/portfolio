{
 "cells": [
  {
   "cell_type": "markdown",
   "metadata": {},
   "source": [
    "# PROJECT OVERVIEW:\n",
    "My goal in this project is to end up with a clean and tidy data set, which will be ready for analysis. The ‘gapminder.csv’ contains life expectancy by country and year. It is a real-world, messy dataset obtained from the Gapminder Foundation. Gapminder Foundation is a nonprofit that promotes sustainable and global development.\n",
    "\n",
    "In this project we will:\n",
    "\n",
    "1.\tExamine the data\n",
    "2.\tDetermine the best approach in cleaning it\n",
    "3.\tVisualize it\n",
    "4.\tAnd export it to a csv file"
   ]
  },
  {
   "cell_type": "code",
   "execution_count": 1,
   "metadata": {
    "scrolled": true
   },
   "outputs": [
    {
     "name": "stdout",
     "output_type": "stream",
     "text": [
      "   Unnamed: 0   1800   1801   1802   1803   1804   1805   1806   1807   1808  \\\n",
      "0           0    NaN    NaN    NaN    NaN    NaN    NaN    NaN    NaN    NaN   \n",
      "1           1  28.21  28.20  28.19  28.18  28.17  28.16  28.15  28.14  28.13   \n",
      "2           2    NaN    NaN    NaN    NaN    NaN    NaN    NaN    NaN    NaN   \n",
      "3           3  35.40  35.40  35.40  35.40  35.40  35.40  35.40  35.40  35.40   \n",
      "4           4  28.82  28.82  28.82  28.82  28.82  28.82  28.82  28.82  28.82   \n",
      "\n",
      "           ...            2008  2009  2010  2011  2012  2013  2014  2015  \\\n",
      "0          ...             NaN   NaN   NaN   NaN   NaN   NaN   NaN   NaN   \n",
      "1          ...             NaN   NaN   NaN   NaN   NaN   NaN   NaN   NaN   \n",
      "2          ...             NaN   NaN   NaN   NaN   NaN   NaN   NaN   NaN   \n",
      "3          ...             NaN   NaN   NaN   NaN   NaN   NaN   NaN   NaN   \n",
      "4          ...             NaN   NaN   NaN   NaN   NaN   NaN   NaN   NaN   \n",
      "\n",
      "   2016        Life expectancy  \n",
      "0   NaN               Abkhazia  \n",
      "1   NaN            Afghanistan  \n",
      "2   NaN  Akrotiri and Dhekelia  \n",
      "3   NaN                Albania  \n",
      "4   NaN                Algeria  \n",
      "\n",
      "[5 rows x 219 columns]\n"
     ]
    }
   ],
   "source": [
    "#import required libraries\n",
    "import pandas as pd\n",
    "import matplotlib.pyplot as plt\n",
    "\n",
    "#read the CSV file. \n",
    "file_gap = pd.read_csv('gapminder.csv')\n",
    "print(file_gap.head())"
   ]
  },
  {
   "cell_type": "code",
   "execution_count": 2,
   "metadata": {
    "scrolled": false
   },
   "outputs": [
    {
     "name": "stdout",
     "output_type": "stream",
     "text": [
      "<class 'pandas.core.frame.DataFrame'>\n",
      "RangeIndex: 780 entries, 0 to 779\n",
      "Columns: 219 entries, Unnamed: 0 to Life expectancy\n",
      "dtypes: float64(217), int64(1), object(1)\n",
      "memory usage: 1.3+ MB\n",
      "None\n",
      "Index(['Unnamed: 0', '1800', '1801', '1802', '1803', '1804', '1805', '1806',\n",
      "       '1807', '1808',\n",
      "       ...\n",
      "       '2008', '2009', '2010', '2011', '2012', '2013', '2014', '2015', '2016',\n",
      "       'Life expectancy'],\n",
      "      dtype='object', length=219)\n"
     ]
    }
   ],
   "source": [
    "print(file_gap.info())\n",
    "print(file_gap.columns)"
   ]
  },
  {
   "cell_type": "markdown",
   "metadata": {},
   "source": [
    "Currently, the gapminder DataFrame has a separate column for each year. \n",
    "\n",
    "(Following the principals of tidy Data)\n",
    "What I want instead is a single column that contains the year, and a single column that represents the average life expectancy for each year and country. By having year in its own column, I can use it as a predictor variable in a later analysis.\n",
    "\n",
    "You can convert the DataFrame into the desired tidy format by melting it."
   ]
  },
  {
   "cell_type": "code",
   "execution_count": 3,
   "metadata": {},
   "outputs": [],
   "source": [
    "file_melt = pd.melt(file_gap, id_vars = ['Life expectancy'])\n",
    "file_melt.columns = ['country', 'year', 'life_expectancy']"
   ]
  },
  {
   "cell_type": "code",
   "execution_count": 4,
   "metadata": {},
   "outputs": [
    {
     "data": {
      "text/plain": [
       "country             object\n",
       "year               float64\n",
       "life_expectancy    float64\n",
       "dtype: object"
      ]
     },
     "execution_count": 4,
     "metadata": {},
     "output_type": "execute_result"
    }
   ],
   "source": [
    "file_melt.year = pd.to_numeric(file_melt.year, errors='coerce')\n",
    "file_melt.dtypes"
   ]
  },
  {
   "cell_type": "code",
   "execution_count": 5,
   "metadata": {},
   "outputs": [
    {
     "name": "stdout",
     "output_type": "stream",
     "text": [
      "                 country  year  life_expectancy\n",
      "0               Abkhazia   NaN              0.0\n",
      "1            Afghanistan   NaN              1.0\n",
      "2  Akrotiri and Dhekelia   NaN              2.0\n",
      "3                Albania   NaN              3.0\n",
      "4                Algeria   NaN              4.0\n",
      "(170040, 3)\n"
     ]
    }
   ],
   "source": [
    "file_melt.head()\n",
    "print(file_melt.head())\n",
    "print(file_melt.shape)"
   ]
  },
  {
   "cell_type": "markdown",
   "metadata": {},
   "source": [
    "In general, it is not the best idea to drop missing values, because in doing so I may end up throwing away useful information. In this data, the missing values refer to years where no estimate for life expectancy is available for a given country. So dropping rows that have no life expectancy data should be fine."
   ]
  },
  {
   "cell_type": "code",
   "execution_count": 6,
   "metadata": {},
   "outputs": [
    {
     "name": "stdout",
     "output_type": "stream",
     "text": [
      "                 country    year  life_expectancy\n",
      "781          Afghanistan  1800.0            28.21\n",
      "783              Albania  1800.0            35.40\n",
      "784              Algeria  1800.0            28.82\n",
      "787               Angola  1800.0            26.98\n",
      "789  Antigua and Barbuda  1800.0            33.54\n",
      "(43857, 3)\n"
     ]
    }
   ],
   "source": [
    "file_melt = file_melt.dropna()\n",
    "print(file_melt.head())\n",
    "print(file_melt.shape)"
   ]
  },
  {
   "cell_type": "markdown",
   "metadata": {},
   "source": [
    "Making sure there are no naan values"
   ]
  },
  {
   "cell_type": "code",
   "execution_count": 7,
   "metadata": {},
   "outputs": [],
   "source": [
    "assert pd.notnull(file_melt['country']).all()\n",
    "assert pd.notnull(file_melt['year']).all()\n",
    "assert pd.notnull(file_melt['life_expectancy']).all()"
   ]
  },
  {
   "cell_type": "markdown",
   "metadata": {},
   "source": [
    "Let us create a histogram of the life_expectancy column. "
   ]
  },
  {
   "cell_type": "code",
   "execution_count": 8,
   "metadata": {},
   "outputs": [
    {
     "name": "stdout",
     "output_type": "stream",
     "text": [
      "year\n",
      "1800.0    31.486020\n",
      "1801.0    31.448905\n",
      "1802.0    31.463483\n",
      "1803.0    31.377413\n",
      "1804.0    31.446318\n",
      "Name: life_expectancy, dtype: float64\n"
     ]
    }
   ],
   "source": [
    "file_agg = file_melt.groupby('year')['life_expectancy'].mean()\n",
    "print(file_agg.head())"
   ]
  },
  {
   "cell_type": "code",
   "execution_count": 9,
   "metadata": {},
   "outputs": [
    {
     "data": {
      "text/plain": [
       "<matplotlib.axes._subplots.AxesSubplot at 0x1fcf8820cf8>"
      ]
     },
     "execution_count": 9,
     "metadata": {},
     "output_type": "execute_result"
    },
    {
     "data": {
      "image/png": "[encoded data removed]",
      "text/plain": [
       "<Figure size 432x288 with 1 Axes>"
      ]
     },
     "metadata": {},
     "output_type": "display_data"
    }
   ],
   "source": [
    "file_melt.life_expectancy.plot(kind='hist')"
   ]
  },
  {
   "cell_type": "markdown",
   "metadata": {},
   "source": [
    "Let us investigate how average life expectancy changed over the years. "
   ]
  },
  {
   "cell_type": "code",
   "execution_count": 10,
   "metadata": {},
   "outputs": [
    {
     "data": {
      "text/plain": [
       "<matplotlib.axes._subplots.AxesSubplot at 0x1fcf8bfe940>"
      ]
     },
     "execution_count": 10,
     "metadata": {},
     "output_type": "execute_result"
    },
    {
     "data": {
      "image/png": "[encoded data removed]",
      "text/plain": [
       "<Figure size 432x288 with 1 Axes>"
      ]
     },
     "metadata": {},
     "output_type": "display_data"
    }
   ],
   "source": [
    "plt.title('Life expectancy over the years')\n",
    "plt.ylabel('Life expectancy')\n",
    "plt.xlabel('Year')\n",
    "file_agg.plot(kind=\"line\")"
   ]
  },
  {
   "cell_type": "markdown",
   "metadata": {},
   "source": [
    "Looks like the life_expectancy was at the lowest in 1918. Let us google and find out why: \n",
    "\n",
    "According he https://www.archives.gov/exhibits/influenza-epidemic/\n",
    "The influenza epidemic killed more people then World War 1"
   ]
  },
  {
   "cell_type": "code",
   "execution_count": 11,
   "metadata": {},
   "outputs": [
    {
     "data": {
      "text/plain": [
       "year\n",
       "1918.0    22.292139\n",
       "Name: life_expectancy, dtype: float64"
      ]
     },
     "execution_count": 11,
     "metadata": {},
     "output_type": "execute_result"
    }
   ],
   "source": [
    "file_agg.loc[file_agg == file_agg.min()]"
   ]
  },
  {
   "cell_type": "markdown",
   "metadata": {},
   "source": [
    "Let us save the tidy and summarized DataFrame to a file"
   ]
  },
  {
   "cell_type": "code",
   "execution_count": 22,
   "metadata": {},
   "outputs": [],
   "source": [
    "file_agg.to_csv('gpminder_average_.csv')"
   ]
  }
 ],
 "metadata": {
  "kernelspec": {
   "display_name": "Python 3",
   "language": "python",
   "name": "python3"
  },
  "language_info": {
   "codemirror_mode": {
    "name": "ipython",
    "version": 3
   },
   "file_extension": ".py",
   "mimetype": "text/x-python",
   "name": "python",
   "nbconvert_exporter": "python",
   "pygments_lexer": "ipython3",
   "version": "3.7.0"
  }
 },
 "nbformat": 4,
 "nbformat_minor": 2
}
